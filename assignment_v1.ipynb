{
 "cells": [
  {
   "cell_type": "code",
   "execution_count": 1,
   "id": "0f468e29-702b-4f3e-a0cd-3b1461c29397",
   "metadata": {},
   "outputs": [
    {
     "data": {
      "text/html": [
       "\n",
       "            <div>\n",
       "                <p><b>SparkSession - in-memory</b></p>\n",
       "                \n",
       "        <div>\n",
       "            <p><b>SparkContext</b></p>\n",
       "\n",
       "            <p><a href=\"http://c451e898732c:4040\">Spark UI</a></p>\n",
       "\n",
       "            <dl>\n",
       "              <dt>Version</dt>\n",
       "                <dd><code>v3.4.1</code></dd>\n",
       "              <dt>Master</dt>\n",
       "                <dd><code>local[*]</code></dd>\n",
       "              <dt>AppName</dt>\n",
       "                <dd><code>pyspark-shell</code></dd>\n",
       "            </dl>\n",
       "        </div>\n",
       "        \n",
       "            </div>\n",
       "        "
      ],
      "text/plain": [
       "<pyspark.sql.session.SparkSession at 0x7fedb15b8fd0>"
      ]
     },
     "execution_count": 1,
     "metadata": {},
     "output_type": "execute_result"
    }
   ],
   "source": [
    "from pyspark.sql import SparkSession\n",
    "from pyspark.sql.functions import concat, lit, avg, round\n",
    "from pyspark import SparkContext, SparkConf\n",
    "import matplotlib.pyplot as plt\n",
    "import time\n",
    "\n",
    "spark = SparkSession.builder.master('local[*]').getOrCreate()\n",
    "#spark.conf.set('spark.cores.max', '1')\n",
    "#spark.conf.set('spark.driver.memory','1000M')\n",
    "\n",
    "sc = spark.sparkContext\n",
    "\n",
    "spark"
   ]
  },
  {
   "cell_type": "code",
   "execution_count": 2,
   "id": "c5104b4a-ec07-4a36-b8bc-a9da74bcd5eb",
   "metadata": {},
   "outputs": [
    {
     "data": {
      "text/plain": [
       "4"
      ]
     },
     "execution_count": 2,
     "metadata": {},
     "output_type": "execute_result"
    }
   ],
   "source": [
    "spark.sparkContext.defaultParallelism"
   ]
  },
  {
   "cell_type": "code",
   "execution_count": 3,
   "id": "9b0a5d0e-24de-45e5-be51-ecc877a7e15c",
   "metadata": {},
   "outputs": [],
   "source": [
    " df = spark.read.format(\"csv\").option(\"inferSchema\", \"true\").option(\"timestampFormat\",\"yyyy-MM-dd HH:mm:ss\").option(\"header\", \"true\").option(\"mode\", \"DROPMALFORMED\").load(\"tripdata_2017_01.csv\")"
   ]
  },
  {
   "cell_type": "code",
   "execution_count": 4,
   "id": "8cf3b7d3-7f6f-459d-981b-259ab67982ca",
   "metadata": {},
   "outputs": [
    {
     "data": {
      "text/plain": [
       "971010"
      ]
     },
     "execution_count": 4,
     "metadata": {},
     "output_type": "execute_result"
    }
   ],
   "source": [
    "df.count()"
   ]
  },
  {
   "cell_type": "code",
   "execution_count": 5,
   "id": "38fa2e82-0562-41a5-a3a2-61edb61aa73d",
   "metadata": {},
   "outputs": [],
   "source": [
    "!rm -r small\n",
    "df.limit(10000).write.option(\"header\", True).option(\"timestampFormat\",\"yyyy-MM-dd HH:mm:ss\").csv(\"small\")   #specifying the csv is necessary\n",
    "#write is a method of df wit which I obtain the same amount of data, so we limit\n",
    "#write is an action\n",
    "#a single file with 10000 rows is created"
   ]
  },
  {
   "cell_type": "code",
   "execution_count": null,
   "id": "71f61017-6b92-4357-a0e0-d11534db39db",
   "metadata": {},
   "outputs": [],
   "source": [
    "df2 = spark.read.parquet(\"yellow_tripdata_2023-07.parquet\") "
   ]
  },
  {
   "cell_type": "code",
   "execution_count": null,
   "id": "8f9a616a-4273-4153-ac53-1727f375b7a1",
   "metadata": {},
   "outputs": [],
   "source": [
    "df2.count()"
   ]
  },
  {
   "cell_type": "markdown",
   "id": "b66a0675-644f-4377-bdbc-eb5d50f32b0c",
   "metadata": {},
   "source": [
    "## CASE STUDIES\n",
    "- Tips depending on the route\n",
    "- Average speed of taxis in terms of the hour.\n",
    "- Fare-amount (o total amount) depending on distance and datetimes to calculate the flag drop"
   ]
  },
  {
   "cell_type": "markdown",
   "id": "cea7ed70-e179-49e7-bea8-ff34fa131dcb",
   "metadata": {},
   "source": [
    "### 1. Tips depending on the route (based on PULocation and DOLocation)"
   ]
  },
  {
   "cell_type": "code",
   "execution_count": 6,
   "id": "3170354b-4b25-4d08-b88a-00a961456475",
   "metadata": {},
   "outputs": [],
   "source": [
    "#Reading the reduced trip_data dataframe\n",
    "df3 = spark.read.format(\"csv\").option(\"inferSchema\", \"true\").option(\"timestampFormat\",\"yyyy-MM-dd HH:mm:ss\").option(\"header\", \"true\").option(\"mode\", \"DROPMALFORMED\").load(\"small\")"
   ]
  },
  {
   "cell_type": "code",
   "execution_count": 7,
   "id": "20c419b9-d1ad-4e70-9764-aa96cb202721",
   "metadata": {},
   "outputs": [
    {
     "name": "stdout",
     "output_type": "stream",
     "text": [
      "root\n",
      " |-- VendorID: integer (nullable = true)\n",
      " |-- tpep_pickup_datetime: timestamp (nullable = true)\n",
      " |-- tpep_dropoff_datetime: timestamp (nullable = true)\n",
      " |-- passenger_count: integer (nullable = true)\n",
      " |-- trip_distance: double (nullable = true)\n",
      " |-- RatecodeID: integer (nullable = true)\n",
      " |-- store_and_fwd_flag: string (nullable = true)\n",
      " |-- PULocationID: integer (nullable = true)\n",
      " |-- DOLocationID: integer (nullable = true)\n",
      " |-- payment_type: integer (nullable = true)\n",
      " |-- fare_amount: double (nullable = true)\n",
      " |-- extra: double (nullable = true)\n",
      " |-- mta_tax: double (nullable = true)\n",
      " |-- tip_amount: double (nullable = true)\n",
      " |-- tolls_amount: double (nullable = true)\n",
      " |-- improvement_surcharge: double (nullable = true)\n",
      " |-- total_amount: double (nullable = true)\n",
      "\n"
     ]
    }
   ],
   "source": [
    "df3.printSchema() #list of all columns that are part of the file"
   ]
  },
  {
   "cell_type": "code",
   "execution_count": 8,
   "id": "07fa1cc7-d5b1-4672-a5ee-00e328d40f99",
   "metadata": {
    "scrolled": true
   },
   "outputs": [
    {
     "name": "stderr",
     "output_type": "stream",
     "text": [
      "/usr/local/spark/python/pyspark/sql/pandas/conversion.py:251: FutureWarning: Passing unit-less datetime64 dtype to .astype is deprecated and will raise in a future version. Pass 'datetime64[ns]' instead\n",
      "  series = series.astype(t, copy=False)\n",
      "/usr/local/spark/python/pyspark/sql/pandas/conversion.py:251: FutureWarning: Passing unit-less datetime64 dtype to .astype is deprecated and will raise in a future version. Pass 'datetime64[ns]' instead\n",
      "  series = series.astype(t, copy=False)\n"
     ]
    }
   ],
   "source": [
    "#Transform dataframe into a Pandas\n",
    "df_pandas = df3.toPandas() #returns a panda object"
   ]
  },
  {
   "cell_type": "code",
   "execution_count": 9,
   "id": "dbe12583-e474-4d28-8d9b-7558a25901eb",
   "metadata": {},
   "outputs": [],
   "source": [
    "df3 = spark.createDataFrame(df_pandas)"
   ]
  },
  {
   "cell_type": "code",
   "execution_count": 10,
   "id": "499c9aba-acb8-42f8-a67e-f1d17ce8bc69",
   "metadata": {},
   "outputs": [],
   "source": [
    "#Reading the locations dataframe\n",
    "df_locations = spark.read.format(\"csv\").option(\"inferSchema\", \"true\").option(\"timestampFormat\",\"yyyy-MM-dd HH:mm:ss\").option(\"header\", \"true\").option(\"mode\", \"DROPMALFORMED\").load(\"taxi+_zone_lookup.csv\")"
   ]
  },
  {
   "cell_type": "code",
   "execution_count": 11,
   "id": "cee0c476-8dad-4361-aadf-0a15af923be3",
   "metadata": {
    "scrolled": true
   },
   "outputs": [
    {
     "name": "stdout",
     "output_type": "stream",
     "text": [
      "+----------+-------------+\n",
      "|LocationID|      Borough|\n",
      "+----------+-------------+\n",
      "|         1|          EWR|\n",
      "|         2|       Queens|\n",
      "|         3|        Bronx|\n",
      "|         4|    Manhattan|\n",
      "|         5|Staten Island|\n",
      "+----------+-------------+\n",
      "only showing top 5 rows\n",
      "\n"
     ]
    }
   ],
   "source": [
    "#Selecting the columns we want to keep before joining: LocationID, Borough\n",
    "columns_loc = df_locations.select(\"LocationID\", \"Borough\")\n",
    "columns_loc.show(5)"
   ]
  },
  {
   "cell_type": "code",
   "execution_count": 12,
   "id": "b15c94f2-2b94-4c16-a26e-2b2837b7f967",
   "metadata": {
    "scrolled": true
   },
   "outputs": [
    {
     "name": "stdout",
     "output_type": "stream",
     "text": [
      "root\n",
      " |-- VendorID: long (nullable = true)\n",
      " |-- tpep_pickup_datetime: timestamp (nullable = true)\n",
      " |-- tpep_dropoff_datetime: timestamp (nullable = true)\n",
      " |-- passenger_count: long (nullable = true)\n",
      " |-- trip_distance: double (nullable = true)\n",
      " |-- RatecodeID: long (nullable = true)\n",
      " |-- store_and_fwd_flag: string (nullable = true)\n",
      " |-- PULocationID: long (nullable = true)\n",
      " |-- DOLocationID: long (nullable = true)\n",
      " |-- payment_type: long (nullable = true)\n",
      " |-- fare_amount: double (nullable = true)\n",
      " |-- extra: double (nullable = true)\n",
      " |-- mta_tax: double (nullable = true)\n",
      " |-- tip_amount: double (nullable = true)\n",
      " |-- tolls_amount: double (nullable = true)\n",
      " |-- improvement_surcharge: double (nullable = true)\n",
      " |-- total_amount: double (nullable = true)\n",
      " |-- LocationID: integer (nullable = true)\n",
      " |-- Borough: string (nullable = true)\n",
      "\n"
     ]
    }
   ],
   "source": [
    "#Joining both dataframes where DOLocationID = LocationID\n",
    "df_join = df3.join(columns_loc, df3[\"DOLocationID\"] == columns_loc[\"LocationID\"])\n",
    "df_join.printSchema()"
   ]
  },
  {
   "cell_type": "code",
   "execution_count": 13,
   "id": "f9bb5e44-da50-4a9e-b604-bf7b2c048bb4",
   "metadata": {},
   "outputs": [],
   "source": [
    "#Renaming Borough as ArrivalZone \n",
    "df_join = df_join.withColumnRenamed(\"Borough\", \"ArrivalZone\")"
   ]
  },
  {
   "cell_type": "code",
   "execution_count": 14,
   "id": "0c6a5f9f-dda3-46d4-b5d5-5ebcb04f27ac",
   "metadata": {
    "scrolled": true
   },
   "outputs": [
    {
     "name": "stdout",
     "output_type": "stream",
     "text": [
      "root\n",
      " |-- VendorID: long (nullable = true)\n",
      " |-- tpep_pickup_datetime: timestamp (nullable = true)\n",
      " |-- tpep_dropoff_datetime: timestamp (nullable = true)\n",
      " |-- passenger_count: long (nullable = true)\n",
      " |-- trip_distance: double (nullable = true)\n",
      " |-- RatecodeID: long (nullable = true)\n",
      " |-- store_and_fwd_flag: string (nullable = true)\n",
      " |-- PULocationID: long (nullable = true)\n",
      " |-- payment_type: long (nullable = true)\n",
      " |-- fare_amount: double (nullable = true)\n",
      " |-- extra: double (nullable = true)\n",
      " |-- mta_tax: double (nullable = true)\n",
      " |-- tip_amount: double (nullable = true)\n",
      " |-- tolls_amount: double (nullable = true)\n",
      " |-- improvement_surcharge: double (nullable = true)\n",
      " |-- total_amount: double (nullable = true)\n",
      " |-- ArrivalZone: string (nullable = true)\n",
      "\n"
     ]
    }
   ],
   "source": [
    "#Deleting the columns we do not want anymore: LocationID and DOLocationID\n",
    "df_join = df_join.drop(\"LocationID\", \"DOLocationID\")\n",
    "df_join.printSchema()"
   ]
  },
  {
   "cell_type": "code",
   "execution_count": 15,
   "id": "4916329b-f624-4ac5-8385-ec7de97b1a76",
   "metadata": {
    "scrolled": true
   },
   "outputs": [
    {
     "name": "stdout",
     "output_type": "stream",
     "text": [
      "root\n",
      " |-- VendorID: long (nullable = true)\n",
      " |-- tpep_pickup_datetime: timestamp (nullable = true)\n",
      " |-- tpep_dropoff_datetime: timestamp (nullable = true)\n",
      " |-- passenger_count: long (nullable = true)\n",
      " |-- trip_distance: double (nullable = true)\n",
      " |-- RatecodeID: long (nullable = true)\n",
      " |-- store_and_fwd_flag: string (nullable = true)\n",
      " |-- PULocationID: long (nullable = true)\n",
      " |-- payment_type: long (nullable = true)\n",
      " |-- fare_amount: double (nullable = true)\n",
      " |-- extra: double (nullable = true)\n",
      " |-- mta_tax: double (nullable = true)\n",
      " |-- tip_amount: double (nullable = true)\n",
      " |-- tolls_amount: double (nullable = true)\n",
      " |-- improvement_surcharge: double (nullable = true)\n",
      " |-- total_amount: double (nullable = true)\n",
      " |-- ArrivalZone: string (nullable = true)\n",
      " |-- LocationID: integer (nullable = true)\n",
      " |-- Borough: string (nullable = true)\n",
      "\n"
     ]
    }
   ],
   "source": [
    "#Now we perform a second join to combine both dataframes where PULocationID = LocationID\n",
    "final_df = df_join.join(columns_loc, df_join[\"PULocationID\"] == columns_loc[\"LocationID\"])\n",
    "final_df.printSchema()"
   ]
  },
  {
   "cell_type": "code",
   "execution_count": 16,
   "id": "c99eec59-6274-4946-8c35-8e438965171e",
   "metadata": {},
   "outputs": [],
   "source": [
    "#Renaming Borough as DepartureZone \n",
    "final_df = final_df.withColumnRenamed(\"Borough\", \"DepartureZone\")"
   ]
  },
  {
   "cell_type": "code",
   "execution_count": 17,
   "id": "6ab06e05-cb96-4e0a-a5a6-6fa8b5db76c0",
   "metadata": {
    "scrolled": true
   },
   "outputs": [
    {
     "name": "stdout",
     "output_type": "stream",
     "text": [
      "root\n",
      " |-- VendorID: long (nullable = true)\n",
      " |-- tpep_pickup_datetime: timestamp (nullable = true)\n",
      " |-- tpep_dropoff_datetime: timestamp (nullable = true)\n",
      " |-- passenger_count: long (nullable = true)\n",
      " |-- trip_distance: double (nullable = true)\n",
      " |-- RatecodeID: long (nullable = true)\n",
      " |-- store_and_fwd_flag: string (nullable = true)\n",
      " |-- payment_type: long (nullable = true)\n",
      " |-- fare_amount: double (nullable = true)\n",
      " |-- extra: double (nullable = true)\n",
      " |-- mta_tax: double (nullable = true)\n",
      " |-- tip_amount: double (nullable = true)\n",
      " |-- tolls_amount: double (nullable = true)\n",
      " |-- improvement_surcharge: double (nullable = true)\n",
      " |-- total_amount: double (nullable = true)\n",
      " |-- ArrivalZone: string (nullable = true)\n",
      " |-- DepartureZone: string (nullable = true)\n",
      "\n"
     ]
    }
   ],
   "source": [
    "#Deleting the columns we do not want anymore: LocationID and PULocationID\n",
    "final_df = final_df.drop(\"LocationID\", \"PULocationID\")\n",
    "final_df.printSchema()"
   ]
  },
  {
   "cell_type": "code",
   "execution_count": 18,
   "id": "0e5eaabe-c5b6-4412-ae45-b0804bc177a5",
   "metadata": {
    "scrolled": true
   },
   "outputs": [
    {
     "name": "stdout",
     "output_type": "stream",
     "text": [
      "+--------+--------------------+---------------------+---------------+-------------+----------+------------------+------------+-----------+-----+-------+----------+------------+---------------------+------------+-----------+-------------+-------------------+\n",
      "|VendorID|tpep_pickup_datetime|tpep_dropoff_datetime|passenger_count|trip_distance|RatecodeID|store_and_fwd_flag|payment_type|fare_amount|extra|mta_tax|tip_amount|tolls_amount|improvement_surcharge|total_amount|ArrivalZone|DepartureZone|              route|\n",
      "+--------+--------------------+---------------------+---------------+-------------+----------+------------------+------------+-----------+-----+-------+----------+------------+---------------------+------------+-----------+-------------+-------------------+\n",
      "|       1| 2017-01-09 11:13:28|  2017-01-09 11:25:45|              1|          3.3|         1|                 N|           1|       12.5|  0.0|    0.5|       2.0|         0.0|                  0.3|        15.3|  Manhattan|    Manhattan|Manhattan Manhattan|\n",
      "|       1| 2017-01-09 11:32:27|  2017-01-09 11:36:01|              1|          0.9|         1|                 N|           1|        5.0|  0.0|    0.5|      1.45|         0.0|                  0.3|        7.25|  Manhattan|    Manhattan|Manhattan Manhattan|\n",
      "|       1| 2017-01-09 11:38:20|  2017-01-09 11:42:05|              1|          1.1|         1|                 N|           1|        5.5|  0.0|    0.5|       1.0|         0.0|                  0.3|         7.3|  Manhattan|    Manhattan|Manhattan Manhattan|\n",
      "|       1| 2017-01-09 11:52:13|  2017-01-09 11:57:36|              1|          1.1|         1|                 N|           1|        6.0|  0.0|    0.5|       1.7|         0.0|                  0.3|         8.5|  Manhattan|    Manhattan|Manhattan Manhattan|\n",
      "|       2| 2017-01-01 00:00:00|  2017-01-01 00:00:00|              1|         0.02|         2|                 N|           2|       52.0|  0.0|    0.5|       0.0|         0.0|                  0.3|        52.8|  Manhattan|    Manhattan|Manhattan Manhattan|\n",
      "|       1| 2017-01-01 00:00:02|  2017-01-01 00:03:50|              1|          0.5|         1|                 N|           2|        4.0|  0.5|    0.5|       0.0|         0.0|                  0.3|         5.3|  Manhattan|    Manhattan|Manhattan Manhattan|\n",
      "|       2| 2017-01-01 00:00:02|  2017-01-01 00:39:22|              4|         7.75|         1|                 N|           1|       22.0|  0.5|    0.5|      4.66|         0.0|                  0.3|       27.96|   Brooklyn|    Manhattan| Manhattan Brooklyn|\n",
      "|       1| 2017-01-01 00:00:03|  2017-01-01 00:06:58|              1|          0.8|         1|                 N|           1|        6.0|  0.5|    0.5|      1.45|         0.0|                  0.3|        8.75|  Manhattan|    Manhattan|Manhattan Manhattan|\n",
      "|       1| 2017-01-01 00:00:05|  2017-01-01 00:08:33|              2|          0.9|         1|                 N|           1|        7.0|  0.5|    0.5|       0.0|         0.0|                  0.3|         8.3|  Manhattan|    Manhattan|Manhattan Manhattan|\n",
      "|       2| 2017-01-01 00:00:05|  2017-01-01 00:05:04|              5|         1.76|         1|                 N|           2|        7.0|  0.5|    0.5|       0.0|         0.0|                  0.3|         8.3|  Manhattan|    Manhattan|Manhattan Manhattan|\n",
      "|       2| 2017-01-01 00:00:05|  2017-01-01 00:15:36|              1|         8.47|         1|                 N|           1|       24.0|  0.5|    0.5|      7.71|        5.54|                  0.3|       38.55|  Manhattan|       Queens|   Queens Manhattan|\n",
      "|       1| 2017-01-01 00:00:06|  2017-01-01 00:11:56|              2|          2.4|         1|                 N|           2|       10.5|  0.5|    0.5|       0.0|         0.0|                  0.3|        11.8|  Manhattan|    Manhattan|Manhattan Manhattan|\n",
      "|       1| 2017-01-01 00:00:06|  2017-01-01 00:23:37|              2|         12.6|         5|                 N|           1|       60.0|  0.0|    0.0|      10.0|         0.0|                  0.3|        70.3|    Unknown|    Manhattan|  Manhattan Unknown|\n",
      "|       1| 2017-01-01 00:00:06|  2017-01-01 00:08:53|              1|          0.9|         1|                 N|           1|        7.0|  0.5|    0.5|      2.05|         0.0|                  0.3|       10.35|  Manhattan|    Manhattan|Manhattan Manhattan|\n",
      "|       2| 2017-01-01 00:00:06|  2017-01-01 00:09:30|              4|         2.43|         1|                 N|           1|        9.5|  0.5|    0.5|       2.7|         0.0|                  0.3|        13.5|  Manhattan|    Manhattan|Manhattan Manhattan|\n",
      "|       2| 2017-01-01 00:00:06|  2017-01-01 00:16:05|              2|          2.6|         1|                 N|           1|       12.5|  0.5|    0.5|      2.76|         0.0|                  0.3|       16.56|  Manhattan|    Manhattan|Manhattan Manhattan|\n",
      "|       2| 2017-01-01 00:00:06|  2017-01-01 00:18:12|              5|         4.25|         1|                 N|           2|       16.5|  0.5|    0.5|       0.0|         0.0|                  0.3|        17.8|   Brooklyn|    Manhattan| Manhattan Brooklyn|\n",
      "|       2| 2017-01-01 00:00:07|  2017-01-01 00:07:42|              1|         0.65|         1|                 N|           1|        6.5|  0.5|    0.5|       1.7|         0.0|                  0.3|         9.5|  Manhattan|    Manhattan|Manhattan Manhattan|\n",
      "|       2| 2017-01-01 00:00:09|  2017-01-01 00:34:21|              1|         3.42|         1|                 N|           1|       22.5|  0.5|    0.5|       0.0|         0.0|                  0.3|        23.8|  Manhattan|    Manhattan|Manhattan Manhattan|\n",
      "|       1| 2017-01-01 00:00:10|  2017-01-01 00:24:52|              1|          6.6|         1|                 N|           2|       23.0|  0.5|    0.5|       0.0|         0.0|                  0.3|        24.3|  Manhattan|    Manhattan|Manhattan Manhattan|\n",
      "+--------+--------------------+---------------------+---------------+-------------+----------+------------------+------------+-----------+-----+-------+----------+------------+---------------------+------------+-----------+-------------+-------------------+\n",
      "only showing top 20 rows\n",
      "\n"
     ]
    }
   ],
   "source": [
    "#Finally, we unify columns DepartureZone and ArrrivalZone in a column named route\n",
    "\n",
    "final_df = final_df.withColumn(\"route\", concat(final_df.DepartureZone, lit(\" \"), final_df.ArrivalZone))\n",
    "final_df.show()"
   ]
  },
  {
   "cell_type": "code",
   "execution_count": 19,
   "id": "91c0075d-ae84-4cb0-9d0b-113236c26194",
   "metadata": {},
   "outputs": [
    {
     "name": "stdout",
     "output_type": "stream",
     "text": [
      "root\n",
      " |-- VendorID: long (nullable = true)\n",
      " |-- tpep_pickup_datetime: timestamp (nullable = true)\n",
      " |-- tpep_dropoff_datetime: timestamp (nullable = true)\n",
      " |-- passenger_count: long (nullable = true)\n",
      " |-- trip_distance: double (nullable = true)\n",
      " |-- RatecodeID: long (nullable = true)\n",
      " |-- store_and_fwd_flag: string (nullable = true)\n",
      " |-- payment_type: long (nullable = true)\n",
      " |-- fare_amount: double (nullable = true)\n",
      " |-- extra: double (nullable = true)\n",
      " |-- mta_tax: double (nullable = true)\n",
      " |-- tip_amount: double (nullable = true)\n",
      " |-- tolls_amount: double (nullable = true)\n",
      " |-- improvement_surcharge: double (nullable = true)\n",
      " |-- total_amount: double (nullable = true)\n",
      " |-- route: string (nullable = true)\n",
      "\n"
     ]
    }
   ],
   "source": [
    "#Deleting the columns we do not want anymore: ArrivalZone and DepartureZone\n",
    "final_df = final_df.drop(\"ArrivalZone\", \"DepartureZone\")\n",
    "final_df.printSchema()"
   ]
  },
  {
   "cell_type": "markdown",
   "id": "0712f133-29d2-4a68-bdfb-5a6d72c07e1f",
   "metadata": {},
   "source": [
    "Now, the data is ready: we have the routes followed by the passengers"
   ]
  },
  {
   "cell_type": "code",
   "execution_count": 20,
   "id": "cef9b28a-8b55-450a-8168-8ced93fb913c",
   "metadata": {},
   "outputs": [
    {
     "name": "stdout",
     "output_type": "stream",
     "text": [
      "+----------+-------------------+\n",
      "|Tip_amount|              route|\n",
      "+----------+-------------------+\n",
      "|       2.0|Manhattan Manhattan|\n",
      "|      1.45|Manhattan Manhattan|\n",
      "|       1.0|Manhattan Manhattan|\n",
      "|       1.7|Manhattan Manhattan|\n",
      "|       0.0|Manhattan Manhattan|\n",
      "+----------+-------------------+\n",
      "only showing top 5 rows\n",
      "\n"
     ]
    }
   ],
   "source": [
    "#We create a new dataframe \"study_1\" only with the columns needed to perform the study: Tip_amount and route\n",
    "study_1 = final_df.select(\"Tip_amount\", \"route\")\n",
    "study_1.show(5)"
   ]
  },
  {
   "cell_type": "markdown",
   "id": "a69267d3-f86c-46b4-9e5d-f5c5b528e5b2",
   "metadata": {},
   "source": [
    "To complete the first study, we have decided to calculate the average of tips paid by the passengers on the route.\n",
    "\n",
    "The steps that have been followed are:\n",
    "- groupBy(): In order to classify the tips based on the route\n",
    "- agg(): An aggregate function to calculate the average using avg()\n",
    "- orderBy(): To sort the tips in descending order"
   ]
  },
  {
   "cell_type": "code",
   "execution_count": 21,
   "id": "d86be479-db68-4869-bfcc-502e1e1fa501",
   "metadata": {},
   "outputs": [],
   "source": [
    "#What do we do with the unknown: delete\n",
    "avg_tips = study_1.groupBy('route').agg(round(avg('Tip_amount'), 2).alias('Average_Tip_per_Route')).orderBy('Average_Tip_per_Route', ascending=False)"
   ]
  },
  {
   "cell_type": "code",
   "execution_count": 22,
   "id": "d109187e-b2bd-41c4-beb7-c3365eaa1c5b",
   "metadata": {},
   "outputs": [
    {
     "name": "stdout",
     "output_type": "stream",
     "text": [
      "+--------------------+---------------------+\n",
      "|               route|Average_Tip_per_Route|\n",
      "+--------------------+---------------------+\n",
      "|          Queens EWR|                19.15|\n",
      "|         Unknown EWR|                18.31|\n",
      "|             EWR EWR|                14.61|\n",
      "|      Queens Unknown|                11.04|\n",
      "|       Manhattan EWR|                 8.25|\n",
      "|    Unknown Brooklyn|                 8.09|\n",
      "|      Unknown Queens|                 7.13|\n",
      "|Manhattan Staten ...|                 7.11|\n",
      "|Queens Staten Island|                 6.99|\n",
      "|        Bronx Queens|                 5.57|\n",
      "|    Queens Manhattan|                 4.85|\n",
      "|     Queens Brooklyn|                 4.02|\n",
      "|      Brooklyn Bronx|                 3.82|\n",
      "|    Manhattan Queens|                 3.54|\n",
      "|     Brooklyn Queens|                 2.71|\n",
      "|  Brooklyn Manhattan|                 2.43|\n",
      "|  Manhattan Brooklyn|                 2.21|\n",
      "|   Manhattan Unknown|                 1.87|\n",
      "|     Unknown Unknown|                 1.74|\n",
      "|        Queens Bronx|                 1.66|\n",
      "+--------------------+---------------------+\n",
      "only showing top 20 rows\n",
      "\n",
      "1.6662144660949707\n"
     ]
    }
   ],
   "source": [
    "#Showing the results and calculating the execution time\n",
    "start = time.time()\n",
    "avg_tips.show() #as it is he action --> measure execution time here\n",
    "end = time.time()\n",
    "exec_time = end  - start\n",
    "print(exec_time)"
   ]
  },
  {
   "cell_type": "code",
   "execution_count": null,
   "id": "d7ca0310-2cd3-43e6-aa96-fa2157b19739",
   "metadata": {},
   "outputs": [],
   "source": [
    "#Keeping execution time in every execution\n",
    "exec_times = [0,0,0.6832952499389648,1.6662144660949707]\n",
    "cores_num = np.range(4)"
   ]
  },
  {
   "cell_type": "code",
   "execution_count": 23,
   "id": "0f7c3259-0a99-4a23-9567-bf6426be0d90",
   "metadata": {},
   "outputs": [
    {
     "data": {
      "text/plain": [
       "Text(0.5, 1.0, 'Average Tip per Route')"
      ]
     },
     "execution_count": 23,
     "metadata": {},
     "output_type": "execute_result"
    },
    {
     "data": {
      "image/png": "[encoded data removed]",
      "text/plain": [
       "<Figure size 1000x600 with 1 Axes>"
      ]
     },
     "metadata": {},
     "output_type": "display_data"
    }
   ],
   "source": [
    "#We transform the data into pandas in order to plot the results\n",
    "\n",
    "avg_tips_pd = avg_tips.toPandas()\n",
    "\n",
    "plt.figure(figsize=(10,6))\n",
    "\n",
    "plt.barh(avg_tips_pd[\"route\"], avg_tips_pd[\"Average_Tip_per_Route\"])\n",
    "plt.xlabel(\"Average Tips\")\n",
    "plt.ylabel(\"Route\")\n",
    "plt.title(\"Average Tip per Route\")"
   ]
  }
 ],
 "metadata": {
  "kernelspec": {
   "display_name": "Python 3 (ipykernel)",
   "language": "python",
   "name": "python3"
  },
  "language_info": {
   "codemirror_mode": {
    "name": "ipython",
    "version": 3
   },
   "file_extension": ".py",
   "mimetype": "text/x-python",
   "name": "python",
   "nbconvert_exporter": "python",
   "pygments_lexer": "ipython3",
   "version": "3.11.5"
  }
 },
 "nbformat": 4,
 "nbformat_minor": 5
}
